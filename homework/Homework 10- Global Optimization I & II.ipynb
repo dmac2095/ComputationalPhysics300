{
 "cells": [
  {
   "cell_type": "markdown",
   "metadata": {},
   "source": [
    "# 17.5 Homework- Global Optimization I"
   ]
  },
  {
   "cell_type": "markdown",
   "metadata": {},
   "source": [
    "- write a program to find the ground state of LJ potential for N=3 (assuming $\\epsilon= \\sigma= 1$)"
   ]
  },
  {
   "cell_type": "markdown",
   "metadata": {},
   "source": [
    "In order to calculate the LJ potential for N=3 atoms, we shall use the Lennard-Jones Potential equation: \n",
    "\n",
    "$$ V= 4\\epsilon[ (\\frac{\\sigma}{r})^2 + (\\frac{\\sigma}{r})^2)$$\n",
    "\n",
    "in which $\\epsilon$ is the depth of the potential well and $\\sigma$ is the distance at which the potential crosses zero, while $r$ is the distance between a pair of atoms. The LJ model consists of two parts: a steep repulsive term and an attractive term, which are expressed by $(\\frac{\\sigma}{r})^2$ and $(\\frac{\\sigma}{r})^2$, respectively. "
   ]
  },
  {
   "cell_type": "code",
   "execution_count": 61,
   "metadata": {},
   "outputs": [],
   "source": [
    "import numpy as np\n",
    "\n",
    "def LJ(r): #define Lennard-Jones Potential \n",
    "    epsilon=1 #depth of potential well\n",
    "    sigma=1 #distance at which the potential crosses zero\n",
    "    r6=r**6 \n",
    "    r12=r6*r6\n",
    "    return 4*epsilon*(sigma/r12- sigma/r6)"
   ]
  },
  {
   "cell_type": "markdown",
   "metadata": {},
   "source": [
    "Since the LJ Potential equation only predicts the potential energy of a pair of atoms, in order to calculate the potential of three atoms, we need to find the distance between all three. We can calculate this by using the following distance equation:\n",
    "\n",
    "$$ D= \\sqrt{(x_{2}- x_{1})^2 - (y_{2}-y_{1})^2}$$\n",
    "\n",
    "in which the $x$ and $y$ values will be generated randomly. \n",
    "\n",
    "After the distances are determined, we can now define a function that would find the lowest energy value after $N$ number of simulations. In theory, the higher the $N$, the more accurate the ground state potential energy would be. "
   ]
  },
  {
   "cell_type": "code",
   "execution_count": 62,
   "metadata": {},
   "outputs": [
    {
     "name": "stdout",
     "output_type": "stream",
     "text": [
      "The ground state potential is:  -2.9979356272513082\n",
      "Time:  11.053908109664917 seconds\n"
     ]
    }
   ],
   "source": [
    "import time\n",
    "\n",
    "def distance(x1,x2,y1,y2): #define distance function \n",
    "    return np.sqrt(abs((x1-x2)**2 - (y1-y2)**2))\n",
    "\n",
    "def minimize_LJ(N, L=5): \n",
    "    energy_list= [] #store energy values\n",
    " \n",
    "    for i in range(N): #N is the number of simulations \n",
    "        Total_energy=0 #starting total energy is zero \n",
    "        \n",
    "        x1= L*np.random.random() #assign random numbers to xs and ys\n",
    "        x2= L*np.random.random()\n",
    "        x3= L*np.random.random()\n",
    "\n",
    "        y1= L*np.random.random()    \n",
    "        y2= L*np.random.random()\n",
    "        y3= L*np.random.random()\n",
    "\n",
    "        r1= distance(x1,x2,y1,y2) #calculate distance between all atoms \n",
    "        r2= distance(x1,x3,y1,y3)\n",
    "        r3= distance(x2,x3,y2,y3)\n",
    "\n",
    "        Total_energy += LJ(r1) #calculate energy between all atoms \n",
    "        Total_energy += LJ(r2)\n",
    "        Total_energy += LJ(r3)\n",
    "        \n",
    "        energy_list.append(Total_energy) \n",
    "    \n",
    "    return min(energy_list) #find the lowest energy value \n",
    "\n",
    "start_time=time.time() \n",
    "energy=minimize_LJ(1000000)\n",
    "end_time=time.time()\n",
    "total_time=end_time-start_time #calculate execution time \n",
    "print(\"The ground state potential is: \", energy)\n",
    "print (\"Time: \",total_time, \"seconds\")"
   ]
  },
  {
   "cell_type": "markdown",
   "metadata": {},
   "source": [
    "According to the energy values collected by Wales's group in Cambridge, the expected ground potential for 3 atoms is -3.0. Comparing this to our result, we can conclude that our method does work. However, looking at the execution time, this method is not very efficient. In addition, the defined function will be very tedious to use if we want to find the ground state potential of many atoms. In that case, we would have to keep generating new $x$ and $y$ values for every additional atom. \n",
    "\n",
    "# 18.3 Homework- Global Optimization II\n",
    "\n",
    "- Try different minimization methods in scipy on larger systems ($N$ up to 20), and show:\n",
    "    1. The average number of attempts to find the ground state\n",
    "    2. The time cost\n",
    "\n",
    "Instead of using the method from 17.5 homework, we can calculate the number of interatomic pairs using the following:\n",
    "\n",
    "$$N\\times(N-1)/2$$\n",
    "\n",
    "where $N=3$. For each pair, we would need to calculate the distance $r$, and then evaluate the energy using the LJ potential equation. "
   ]
  },
  {
   "cell_type": "code",
   "execution_count": 63,
   "metadata": {},
   "outputs": [],
   "source": [
    "def total_LJ(pos): #calculate total energy of N number of atoms \n",
    "    E=0\n",
    "    N_atom= int(len(pos)/3) \n",
    "    \n",
    "    for i in range(N_atom-1): \n",
    "        for j in range(i+1, N_atom):\n",
    "            Pos1= pos[i*3:(i+1)*3]\n",
    "            Pos2= pos[j*3:(j+1)*3]\n",
    "            distance=np.linalg.norm(Pos1-Pos2)\n",
    "            \n",
    "            E += LJ(distance)\n",
    "    return E"
   ]
  },
  {
   "cell_type": "markdown",
   "metadata": {},
   "source": [
    "Similar to the first method, we would again need to generate random position for $N$ number of atoms. "
   ]
  },
  {
   "cell_type": "code",
   "execution_count": 64,
   "metadata": {},
   "outputs": [],
   "source": [
    "def init_pos(N,L=5): #generate random positions for N number of atoms \n",
    "    return L*np.random.random_sample((N*3))"
   ]
  },
  {
   "cell_type": "markdown",
   "metadata": {},
   "source": [
    "We can now use Scipy's minimize function in order to determine the minimum potential energy of $N$ atoms. We will use the following minimization methods and then choose the most efficient one to determine the ground state potential of atoms ranging from 4-20:\n",
    "\n",
    "    1. BFGS: Broyden-Fletcher-Goldfarb-Shanno method\n",
    "    2. CG: Conjugate Gradient method\n",
    "    3. Nelder-Mead method\n",
    "    4. Powell Method "
   ]
  },
  {
   "cell_type": "code",
   "execution_count": null,
   "metadata": {},
   "outputs": [],
   "source": [
    "from scipy.optimize import minimize\n",
    " \n",
    "start_time=time.time()\n",
    "fx_list=[] #store function values \n",
    "x_list=[] #store x values \n",
    "\n",
    "def ground_state(N_atom, method, N_attempts): #calculate ground state potential of N number of atoms \n",
    "    start_time= time.time()\n",
    "    for i in range(N_attempts):\n",
    "        pos= init_pos(N_atom)\n",
    "        results=minimize(total_LJ, pos, method=method, tol=1e-4) #use scipy minimize function to find lowest function value \n",
    "        fx_list.append(results.fun)\n",
    "        x_list.append(results.x)\n",
    "        if i%10==0: #for every 10 steps, record value at that point and time \n",
    "            end_time=time.time()\n",
    "            total_time= end_time-start_time #calculate execution time \n",
    "            print(\"Method: \", method, 'Step #: ', i, '  Value:', results.fun, \"Time: \", total_time, \"sec\")    \n",
    "        \n",
    "    print (\"Ground state potential is:\", min(fx_list))\n"
   ]
  },
  {
   "cell_type": "code",
   "execution_count": 89,
   "metadata": {},
   "outputs": [
    {
     "name": "stdout",
     "output_type": "stream",
     "text": [
      "Method:  BFGS Step #:  0   Value: -2.9999999999995466 Time:  0.0243222713470459 sec\n",
      "Method:  BFGS Step #:  10   Value: -2.999999999979061 Time:  0.2830381393432617 sec\n",
      "Method:  BFGS Step #:  20   Value: -2.999999999994726 Time:  0.5370461940765381 sec\n",
      "Method:  BFGS Step #:  30   Value: -2.999999999999318 Time:  0.7482199668884277 sec\n",
      "Method:  BFGS Step #:  40   Value: -2.999999999999146 Time:  1.0107522010803223 sec\n",
      "Ground state potential is: -2.9999999999999956\n"
     ]
    }
   ],
   "source": [
    "ground_state(3, 'BFGS', 50)"
   ]
  },
  {
   "cell_type": "code",
   "execution_count": 76,
   "metadata": {},
   "outputs": [
    {
     "name": "stdout",
     "output_type": "stream",
     "text": [
      "Method:  CG Step #:  0   Value: -2.9999999999438223 Time:  0.07292318344116211 sec\n",
      "Method:  CG Step #:  10   Value: -2.9999999999999987 Time:  0.3857252597808838 sec\n",
      "Method:  CG Step #:  20   Value: -2.999999999978899 Time:  0.716508150100708 sec\n",
      "Method:  CG Step #:  30   Value: -2.999999999960896 Time:  0.930408239364624 sec\n",
      "Method:  CG Step #:  40   Value: -2.999999999985993 Time:  1.2587132453918457 sec\n",
      "Ground state potential is: -2.999999999999999\n"
     ]
    }
   ],
   "source": [
    "ground_state(3, 'CG',50)"
   ]
  },
  {
   "cell_type": "code",
   "execution_count": 77,
   "metadata": {},
   "outputs": [
    {
     "name": "stdout",
     "output_type": "stream",
     "text": [
      "Method:  Nelder-Mead Step #:  0   Value: -2.9999999732244422 Time:  0.06808781623840332 sec\n",
      "Method:  Nelder-Mead Step #:  10   Value: -2.999999998114929 Time:  0.8838379383087158 sec\n",
      "Method:  Nelder-Mead Step #:  20   Value: -2.9999999982903303 Time:  1.590122938156128 sec\n",
      "Method:  Nelder-Mead Step #:  30   Value: -2.9999999843935865 Time:  2.1999099254608154 sec\n",
      "Method:  Nelder-Mead Step #:  40   Value: -2.999999994955434 Time:  2.923142910003662 sec\n",
      "Ground state potential is: -2.999999999999999\n"
     ]
    }
   ],
   "source": [
    "ground_state(3, 'Nelder-Mead',50)"
   ]
  },
  {
   "cell_type": "code",
   "execution_count": 78,
   "metadata": {},
   "outputs": [
    {
     "name": "stdout",
     "output_type": "stream",
     "text": [
      "Method:  Powell Step #:  0   Value: -2.999999999156739 Time:  0.10570645332336426 sec\n",
      "Method:  Powell Step #:  10   Value: -2.9999999999997757 Time:  0.7316312789916992 sec\n",
      "Method:  Powell Step #:  20   Value: -2.999999999982415 Time:  1.1314191818237305 sec\n",
      "Method:  Powell Step #:  30   Value: -2.999999999076223 Time:  1.5463533401489258 sec\n",
      "Method:  Powell Step #:  40   Value: -2.99999998282589 Time:  1.9976122379302979 sec\n",
      "Ground state potential is: -3.0\n"
     ]
    }
   ],
   "source": [
    "ground_state(3, 'Powell',50 )"
   ]
  },
  {
   "cell_type": "markdown",
   "metadata": {},
   "source": [
    "Looking at the results, all methods calculated accurate results, even with just a few attempts. However, the BFGS method was the fastest. Now, we can calculate the ground state potential energy of $N=4$ to $N=20$, using strictly the BFGS method, with 20 attempts. "
   ]
  },
  {
   "cell_type": "code",
   "execution_count": 90,
   "metadata": {},
   "outputs": [
    {
     "name": "stdout",
     "output_type": "stream",
     "text": [
      "Number of atoms:  4\n",
      "Attempts: 20\n",
      "Method:  BFGS Step #:  0   Value: -5.999999999932005 Time:  0.09274411201477051 sec\n",
      "Method:  BFGS Step #:  10   Value: -5.999999999969069 Time:  0.8186490535736084 sec\n",
      "Ground state potential is: -5.999999999999879\n",
      "\n",
      "\n",
      "Number of atoms:  5\n",
      "Attempts: 20\n",
      "Method:  BFGS Step #:  0   Value: -9.103851818628883 Time:  0.32808971405029297 sec\n",
      "Method:  BFGS Step #:  10   Value: -9.103852415706752 Time:  2.195434808731079 sec\n",
      "Ground state potential is: -9.103852415706752\n",
      "\n",
      "\n",
      "Number of atoms:  6\n",
      "Attempts: 20\n",
      "Method:  BFGS Step #:  0   Value: -12.302927529537861 Time:  0.2884559631347656 sec\n",
      "Method:  BFGS Step #:  10   Value: -12.302927529527082 Time:  3.7113709449768066 sec\n",
      "Ground state potential is: -12.71206225665728\n",
      "\n",
      "\n",
      "Number of atoms:  7\n",
      "Attempts: 20\n",
      "Method:  BFGS Step #:  0   Value: -15.593210938146438 Time:  0.5279741287231445 sec\n",
      "Method:  BFGS Step #:  10   Value: -15.533060054496666 Time:  6.063563108444214 sec\n",
      "Ground state potential is: -16.50538416799992\n",
      "\n",
      "\n",
      "Number of atoms:  8\n",
      "Attempts: 20\n",
      "Method:  BFGS Step #:  0   Value: -19.821489191892987 Time:  0.8894131183624268 sec\n",
      "Method:  BFGS Step #:  10   Value: -19.169279771127698 Time:  10.262575149536133 sec\n",
      "Ground state potential is: -19.82148919210753\n",
      "\n",
      "\n",
      "Number of atoms:  9\n",
      "Attempts: 20\n",
      "Method:  BFGS Step #:  0   Value: -23.10501818829072 Time:  1.2000482082366943 sec\n",
      "Method:  BFGS Step #:  10   Value: -23.10501818832776 Time:  13.2381911277771 sec\n",
      "Ground state potential is: -24.113360433600352\n",
      "\n",
      "\n",
      "Number of atoms:  10\n",
      "Attempts: 20\n",
      "Method:  BFGS Step #:  0   Value: -26.418356107686748 Time:  3.280853033065796 sec\n",
      "Method:  BFGS Step #:  10   Value: -26.49049870203999 Time:  22.528759002685547 sec\n",
      "Ground state potential is: -27.55586303776465\n",
      "\n",
      "\n",
      "Number of atoms:  11\n",
      "Attempts: 20\n",
      "Method:  BFGS Step #:  0   Value: -25.4075034331568 Time:  2.8183670043945312 sec\n",
      "Method:  BFGS Step #:  10   Value: -30.8873585562436 Time:  28.764211893081665 sec\n",
      "Ground state potential is: -32.76597008996516\n",
      "\n",
      "\n",
      "Number of atoms:  12\n",
      "Attempts: 20\n",
      "Method:  BFGS Step #:  0   Value: -33.150075048524855 Time:  2.858847141265869 sec\n",
      "Method:  BFGS Step #:  10   Value: -34.37248935256558 Time:  42.323198080062866 sec\n",
      "Ground state potential is: -36.243025903115814\n",
      "\n",
      "\n",
      "Number of atoms:  13\n",
      "Attempts: 20\n",
      "Method:  BFGS Step #:  0   Value: -44.32680141926821 Time:  3.9370899200439453 sec\n",
      "Method:  BFGS Step #:  10   Value: -38.52628767393438 Time:  63.96470093727112 sec\n",
      "Ground state potential is: -44.32680141950662\n",
      "\n",
      "\n",
      "Number of atoms:  14\n",
      "Attempts: 20\n",
      "Method:  BFGS Step #:  0   Value: -43.091659475836245 Time:  6.442941188812256 sec\n",
      "Method:  BFGS Step #:  10   Value: -45.09327337912115 Time:  71.65909600257874 sec\n",
      "Ground state potential is: -47.84515678238066\n",
      "\n",
      "\n",
      "Number of atoms:  15\n",
      "Attempts: 20\n",
      "Method:  BFGS Step #:  0   Value: -46.07172101265658 Time:  7.0920209884643555 sec\n",
      "Method:  BFGS Step #:  10   Value: -42.544178062933966 Time:  88.58684802055359 sec\n",
      "Ground state potential is: -51.37264608358689\n",
      "\n",
      "\n",
      "Number of atoms:  16\n",
      "Attempts: 20\n",
      "Method:  BFGS Step #:  0   Value: -37.96764910991055 Time:  15.240288734436035 sec\n",
      "Method:  BFGS Step #:  10   Value: -44.172676847448734 Time:  142.13110971450806 sec\n",
      "Ground state potential is: -55.94267263022556\n",
      "\n",
      "\n",
      "Number of atoms:  17\n",
      "Attempts: 20\n",
      "Method:  BFGS Step #:  0   Value: -46.6224805490485 Time:  8.85962700843811 sec\n",
      "Method:  BFGS Step #:  10   Value: -46.421616893193196 Time:  137.70316195487976 sec\n",
      "Ground state potential is: -61.307146081354496\n",
      "\n",
      "\n",
      "Number of atoms:  18\n",
      "Attempts: 20\n",
      "Method:  BFGS Step #:  0   Value: -63.85128947651132 Time:  11.305625915527344 sec\n",
      "Method:  BFGS Step #:  10   Value: -64.83148920583871 Time:  155.33515405654907 sec\n",
      "Ground state potential is: -64.84941440679147\n",
      "\n",
      "\n",
      "Number of atoms:  19\n",
      "Attempts: 20\n",
      "Method:  BFGS Step #:  0   Value: -61.77181542999268 Time:  29.065587997436523 sec\n",
      "Method:  BFGS Step #:  10   Value: -68.59978590021217 Time:  242.29642415046692 sec\n",
      "Ground state potential is: -69.26231572611229\n",
      "\n",
      "\n",
      "Number of atoms:  20\n",
      "Attempts: 20\n",
      "Method:  BFGS Step #:  0   Value: -64.83150052069361 Time:  29.581752061843872 sec\n",
      "Method:  BFGS Step #:  10   Value: -75.0941788746341 Time:  331.2449562549591 sec\n",
      "Ground state potential is: -75.60043669079936\n",
      "\n",
      "\n"
     ]
    }
   ],
   "source": [
    "for i in range(4,21):\n",
    "    print(\"Number of atoms: \", i)\n",
    "    print( \"Attempts: 20\")\n",
    "    energy= ground_state(i, \"BFGS\", 20)\n",
    "    print('\\n')\n",
    "    "
   ]
  },
  {
   "cell_type": "markdown",
   "metadata": {},
   "source": [
    "Comparing the ground state potentials to the ones collected in Cambrdige, the results are similar. However, from $N$= 18 to $N$=20, the potential energy value starts to deviate from the expected value. Furthermore, the time it takes for the computation to finish increases as the number of atoms increase, which was expected. "
   ]
  }
 ],
 "metadata": {
  "kernelspec": {
   "display_name": "Python 3",
   "language": "python",
   "name": "python3"
  }
 },
 "nbformat": 4,
 "nbformat_minor": 2
}
