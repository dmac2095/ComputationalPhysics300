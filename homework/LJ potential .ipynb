{
 "cells": [
  {
   "cell_type": "code",
   "execution_count": 1,
   "metadata": {},
   "outputs": [],
   "source": [
    "import numpy as np\n",
    "\n",
    "def LJ(r): #define Lennard-Jones Potential \n",
    "    epsilon=1 #depth of potential well\n",
    "    sigma=1 #distance at which the potential crosses zero\n",
    "    r6=r**6 \n",
    "    r12=r6*r6\n",
    "    return 4*epsilon*(sigma/r12- sigma/r6)"
   ]
  },
  {
   "cell_type": "code",
   "execution_count": 2,
   "metadata": {},
   "outputs": [],
   "source": [
    "def total_LJ(pos): #calculate total energy of N number of atoms \n",
    "    E=0\n",
    "    N_atom= int(len(pos)/3) \n",
    "    \n",
    "    for i in range(N_atom-1): \n",
    "        for j in range(i+1, N_atom):\n",
    "            Pos1= pos[i*3:(i+1)*3]\n",
    "            Pos2= pos[j*3:(j+1)*3]\n",
    "            distance=np.linalg.norm(Pos1-Pos2)\n",
    "            \n",
    "            E += LJ(distance)\n",
    "    return E"
   ]
  },
  {
   "cell_type": "code",
   "execution_count": 10,
   "metadata": {},
   "outputs": [],
   "source": [
    "def init_pos(N,L=5): #generate random positions for N number of atoms \n",
    "    return L*np.random.random_sample((N*3))"
   ]
  },
  {
   "cell_type": "code",
   "execution_count": 90,
   "metadata": {},
   "outputs": [],
   "source": [
    "def jacobian(pos):\n",
    "    N_atom = int(len(pos)/3) \n",
    "    ljforce = np.zeros([N_atom, 3]) #generate array to store forces\n",
    "                 \n",
    "    for i in range(N_atom): \n",
    "        pos0= pos[i*3:(i+1)*3] #position of central atom\n",
    "        for j in range(N_atom):\n",
    "            pos1= pos[j*3:(j+1)*3]\n",
    "            if not any(pos0==pos1): #check that   \n",
    "                distance=np.linalg.norm(pos0-pos1)\n",
    "                r14 =distance**14\n",
    "                r8 = distance**8\n",
    "                x= 48/r14\n",
    "                y=24/r8\n",
    "                rnext = np.dot(y-x, (pos0-pos1))\n",
    "                ljforce[i] += rnext #add force to array \n",
    "\n",
    "    return ljforce.flatten() #return array collapsed into one dimension "
   ]
  },
  {
   "cell_type": "code",
   "execution_count": 91,
   "metadata": {},
   "outputs": [],
   "source": [
    "from scipy.optimize import minimize\n",
    "import time\n",
    "\n",
    "start_time=time.time()\n",
    "fx_list=[] #store function values \n",
    "x_list=[] #store x values \n",
    "\n",
    "def ground_state(N_atom, method, N_attempts): #calculate ground state potential of N number of atoms \n",
    "    start_time= time.time()\n",
    "    for i in range(N_attempts):\n",
    "        pos= init_pos(N_atom)\n",
    "        results=minimize(total_LJ, pos, method=method, jac=jacobian, tol=1e-4) #use scipy minimize function to find lowest function value \n",
    "        fx_list.append(results.fun)\n",
    "        x_list.append(results.x)\n",
    "        if i%10==0: #for every 10 steps, record value at that point and time \n",
    "            end_time=time.time()\n",
    "            total_time= end_time-start_time #calculate execution time \n",
    "            print(\"Method: \", method, 'Step #: ', i, '  Value:', results.fun, \"Time: \", total_time, \"sec\")    \n",
    "        \n",
    "    print (\"Ground state potential is:\", min(fx_list))"
   ]
  },
  {
   "cell_type": "code",
   "execution_count": 92,
   "metadata": {},
   "outputs": [
    {
     "name": "stdout",
     "output_type": "stream",
     "text": [
      "Method:  BFGS Step #:  0   Value: -2.9999999999973532 Time:  0.01602792739868164 sec\n",
      "Method:  BFGS Step #:  10   Value: -2.999999999999993 Time:  0.1162109375 sec\n",
      "Method:  BFGS Step #:  20   Value: -2.9999999999998375 Time:  0.20913481712341309 sec\n",
      "Method:  BFGS Step #:  30   Value: -2.9999999999980718 Time:  0.3126859664916992 sec\n",
      "Method:  BFGS Step #:  40   Value: -2.9999999999999325 Time:  0.4142029285430908 sec\n",
      "Ground state potential is: -3.0\n"
     ]
    }
   ],
   "source": [
    "ground_state(3, 'BFGS', 50)"
   ]
  },
  {
   "cell_type": "code",
   "execution_count": 93,
   "metadata": {},
   "outputs": [
    {
     "name": "stdout",
     "output_type": "stream",
     "text": [
      "Method:  BFGS Step #:  0   Value: -67.8296724968687 Time:  2.118759870529175 sec\n",
      "Method:  BFGS Step #:  10   Value: -53.02430840674744 Time:  24.984334707260132 sec\n",
      "Method:  BFGS Step #:  20   Value: -67.26115129790182 Time:  49.505085945129395 sec\n",
      "Method:  BFGS Step #:  30   Value: -71.06253552541175 Time:  73.25586199760437 sec\n",
      "Method:  BFGS Step #:  40   Value: -66.23955825694425 Time:  101.57443404197693 sec\n",
      "Method:  BFGS Step #:  50   Value: -73.88241601743742 Time:  121.0724847316742 sec\n",
      "Method:  BFGS Step #:  60   Value: -73.56326540777489 Time:  150.4079179763794 sec\n",
      "Method:  BFGS Step #:  70   Value: -67.06148455066172 Time:  176.8175778388977 sec\n",
      "Method:  BFGS Step #:  80   Value: -68.88721415580227 Time:  203.01572608947754 sec\n",
      "Method:  BFGS Step #:  90   Value: -71.3587615088627 Time:  226.9172489643097 sec\n",
      "Ground state potential is: -75.28121415137447\n"
     ]
    }
   ],
   "source": [
    "ground_state(20,'BFGS', 100)"
   ]
  }
 ],
 "metadata": {
  "kernelspec": {
   "display_name": "Python 3",
   "language": "python",
   "name": "python3"
  },
  "language_info": {
   "codemirror_mode": {
    "name": "ipython",
    "version": 3
   },
   "file_extension": ".py",
   "mimetype": "text/x-python",
   "name": "python",
   "nbconvert_exporter": "python",
   "pygments_lexer": "ipython3",
   "version": "3.7.3"
  }
 },
 "nbformat": 4,
 "nbformat_minor": 2
}
